{
 "cells": [
  {
   "cell_type": "markdown",
   "metadata": {},
   "source": [
    "## First training neural network to learn y = 2 * x**2"
   ]
  },
  {
   "cell_type": "code",
   "execution_count": 47,
   "metadata": {},
   "outputs": [],
   "source": [
    "import torch.nn as nn"
   ]
  },
  {
   "cell_type": "code",
   "execution_count": null,
   "metadata": {},
   "outputs": [],
   "source": []
  },
  {
   "cell_type": "code",
   "execution_count": 57,
   "metadata": {},
   "outputs": [],
   "source": [
    "import torch.optim as optim\n",
    "import copy \n",
    "import tqdm \n",
    "import torch \n",
    "from sklearn.model_selection import train_test_split"
   ]
  },
  {
   "cell_type": "code",
   "execution_count": 50,
   "metadata": {},
   "outputs": [],
   "source": [
    "loss_fn = nn.MSELoss()\n",
    "optimizer = optim.Adam(model.parameters(),lr=0.0001)"
   ]
  },
  {
   "cell_type": "code",
   "execution_count": 126,
   "metadata": {},
   "outputs": [
    {
     "name": "stderr",
     "output_type": "stream",
     "text": [
      "Epoch 1: 100%|██████████| 70/70 [00:00<00:00, 173.07batch/s, mse=1.21e+3]\n",
      "Epoch 2: 100%|██████████| 70/70 [00:00<00:00, 240.29batch/s, mse=547]    \n",
      "Epoch 3: 100%|██████████| 70/70 [00:00<00:00, 154.56batch/s, mse=425]   \n",
      "Epoch 4: 100%|██████████| 70/70 [00:00<00:00, 171.77batch/s, mse=344]\n",
      "Epoch 5: 100%|██████████| 70/70 [00:00<00:00, 184.83batch/s, mse=285]\n",
      "Epoch 6: 100%|██████████| 70/70 [00:00<00:00, 194.63batch/s, mse=241]\n",
      "Epoch 7: 100%|██████████| 70/70 [00:00<00:00, 165.44batch/s, mse=204] \n",
      "Epoch 8: 100%|██████████| 70/70 [00:00<00:00, 208.22batch/s, mse=171] \n",
      "Epoch 9: 100%|██████████| 70/70 [00:00<00:00, 219.23batch/s, mse=141] \n",
      "Epoch 10: 100%|██████████| 70/70 [00:00<00:00, 208.61batch/s, mse=117] \n",
      "Epoch 11: 100%|██████████| 70/70 [00:00<00:00, 206.72batch/s, mse=98.1]\n",
      "Epoch 12: 100%|██████████| 70/70 [00:00<00:00, 192.12batch/s, mse=84.1]\n",
      "Epoch 13: 100%|██████████| 70/70 [00:00<00:00, 199.53batch/s, mse=70.6]\n",
      "Epoch 14: 100%|██████████| 70/70 [00:00<00:00, 233.58batch/s, mse=57.8]\n",
      "Epoch 15: 100%|██████████| 70/70 [00:00<00:00, 212.61batch/s, mse=47.4]\n",
      "Epoch 16: 100%|██████████| 70/70 [00:00<00:00, 194.73batch/s, mse=38.7]\n",
      "Epoch 17: 100%|██████████| 70/70 [00:00<00:00, 178.02batch/s, mse=31.5]\n",
      "Epoch 18: 100%|██████████| 70/70 [00:00<00:00, 207.15batch/s, mse=25.8]\n",
      "Epoch 19: 100%|██████████| 70/70 [00:00<00:00, 164.84batch/s, mse=21.3]\n",
      "Epoch 20: 100%|██████████| 70/70 [00:00<00:00, 190.31batch/s, mse=17.9]\n",
      "Epoch 21: 100%|██████████| 70/70 [00:00<00:00, 233.97batch/s, mse=15.2]\n",
      "Epoch 22: 100%|██████████| 70/70 [00:00<00:00, 225.91batch/s, mse=13.5]\n",
      "Epoch 23: 100%|██████████| 70/70 [00:00<00:00, 177.33batch/s, mse=11.9]\n",
      "Epoch 24: 100%|██████████| 70/70 [00:00<00:00, 157.77batch/s, mse=9.17]\n",
      "Epoch 25: 100%|██████████| 70/70 [00:00<00:00, 188.87batch/s, mse=7.74]\n",
      "Epoch 26: 100%|██████████| 70/70 [00:00<00:00, 211.63batch/s, mse=6.89]\n",
      "Epoch 27: 100%|██████████| 70/70 [00:00<00:00, 219.13batch/s, mse=5.97]\n",
      "Epoch 28: 100%|██████████| 70/70 [00:00<00:00, 153.34batch/s, mse=5.1] \n",
      "Epoch 29: 100%|██████████| 70/70 [00:00<00:00, 169.22batch/s, mse=4.59] \n",
      "Epoch 30: 100%|██████████| 70/70 [00:00<00:00, 199.83batch/s, mse=4.16] \n",
      "Epoch 31: 100%|██████████| 70/70 [00:00<00:00, 201.46batch/s, mse=3.71] \n",
      "Epoch 32: 100%|██████████| 70/70 [00:00<00:00, 161.10batch/s, mse=3.33] \n",
      "Epoch 33: 100%|██████████| 70/70 [00:00<00:00, 178.79batch/s, mse=3.17] \n",
      "Epoch 34: 100%|██████████| 70/70 [00:00<00:00, 206.15batch/s, mse=3.02] \n",
      "Epoch 35: 100%|██████████| 70/70 [00:00<00:00, 204.55batch/s, mse=2.92] \n",
      "Epoch 36: 100%|██████████| 70/70 [00:00<00:00, 152.96batch/s, mse=2.84] \n",
      "Epoch 37: 100%|██████████| 70/70 [00:00<00:00, 193.86batch/s, mse=2.62] \n",
      "Epoch 38: 100%|██████████| 70/70 [00:00<00:00, 186.51batch/s, mse=2.52] \n",
      "Epoch 39: 100%|██████████| 70/70 [00:00<00:00, 195.52batch/s, mse=2.39] \n",
      "Epoch 40: 100%|██████████| 70/70 [00:00<00:00, 175.53batch/s, mse=2.25] \n",
      "Epoch 41: 100%|██████████| 70/70 [00:00<00:00, 190.39batch/s, mse=2.23] \n",
      "Epoch 42: 100%|██████████| 70/70 [00:00<00:00, 225.50batch/s, mse=2.3]  \n",
      "Epoch 43: 100%|██████████| 70/70 [00:00<00:00, 199.84batch/s, mse=2.27] \n",
      "Epoch 44: 100%|██████████| 70/70 [00:00<00:00, 186.73batch/s, mse=2.2]  \n",
      "Epoch 45: 100%|██████████| 70/70 [00:00<00:00, 211.95batch/s, mse=2.13] \n",
      "Epoch 46: 100%|██████████| 70/70 [00:00<00:00, 225.94batch/s, mse=2.08] \n",
      "Epoch 47: 100%|██████████| 70/70 [00:00<00:00, 198.73batch/s, mse=2.02] \n",
      "Epoch 48: 100%|██████████| 70/70 [00:00<00:00, 186.54batch/s, mse=1.87] \n",
      "Epoch 49: 100%|██████████| 70/70 [00:00<00:00, 160.71batch/s, mse=1.72] \n",
      "Epoch 50: 100%|██████████| 70/70 [00:00<00:00, 229.13batch/s, mse=1.64] \n",
      "Epoch 51: 100%|██████████| 70/70 [00:00<00:00, 200.58batch/s, mse=1.57] \n",
      "Epoch 52: 100%|██████████| 70/70 [00:00<00:00, 196.52batch/s, mse=1.54] \n",
      "Epoch 53: 100%|██████████| 70/70 [00:00<00:00, 212.35batch/s, mse=1.57] \n",
      "Epoch 54: 100%|██████████| 70/70 [00:00<00:00, 202.89batch/s, mse=1.59] \n",
      "Epoch 55: 100%|██████████| 70/70 [00:00<00:00, 190.37batch/s, mse=1.61] \n",
      "Epoch 56: 100%|██████████| 70/70 [00:00<00:00, 192.74batch/s, mse=1.52] \n",
      "Epoch 57: 100%|██████████| 70/70 [00:00<00:00, 197.24batch/s, mse=1.47] \n",
      "Epoch 58: 100%|██████████| 70/70 [00:00<00:00, 180.92batch/s, mse=1.39] \n",
      "Epoch 59: 100%|██████████| 70/70 [00:00<00:00, 236.51batch/s, mse=1.33] \n",
      "Epoch 60: 100%|██████████| 70/70 [00:00<00:00, 214.97batch/s, mse=1.26] \n",
      "Epoch 61: 100%|██████████| 70/70 [00:00<00:00, 171.26batch/s, mse=1.21] \n",
      "Epoch 62: 100%|██████████| 70/70 [00:00<00:00, 202.99batch/s, mse=1.18] \n",
      "Epoch 63: 100%|██████████| 70/70 [00:00<00:00, 230.74batch/s, mse=1.2]  \n",
      "Epoch 64: 100%|██████████| 70/70 [00:00<00:00, 164.48batch/s, mse=1.15] \n",
      "Epoch 65: 100%|██████████| 70/70 [00:00<00:00, 141.69batch/s, mse=1.08] \n",
      "Epoch 66: 100%|██████████| 70/70 [00:00<00:00, 182.95batch/s, mse=0.996]\n",
      "Epoch 67: 100%|██████████| 70/70 [00:00<00:00, 158.40batch/s, mse=0.915]\n",
      "Epoch 68: 100%|██████████| 70/70 [00:00<00:00, 174.04batch/s, mse=0.855]\n",
      "Epoch 69: 100%|██████████| 70/70 [00:00<00:00, 202.54batch/s, mse=0.829]\n",
      "Epoch 70: 100%|██████████| 70/70 [00:00<00:00, 190.05batch/s, mse=0.767]\n",
      "Epoch 71: 100%|██████████| 70/70 [00:00<00:00, 223.22batch/s, mse=0.731]\n",
      "Epoch 72: 100%|██████████| 70/70 [00:00<00:00, 202.53batch/s, mse=0.695]\n",
      "Epoch 73: 100%|██████████| 70/70 [00:00<00:00, 168.71batch/s, mse=0.668]\n",
      "Epoch 74: 100%|██████████| 70/70 [00:00<00:00, 207.06batch/s, mse=0.694]\n",
      "Epoch 75: 100%|██████████| 70/70 [00:00<00:00, 218.93batch/s, mse=0.666]\n",
      "Epoch 76: 100%|██████████| 70/70 [00:00<00:00, 189.86batch/s, mse=0.638]\n",
      "Epoch 77: 100%|██████████| 70/70 [00:00<00:00, 205.16batch/s, mse=0.6]  \n",
      "Epoch 78: 100%|██████████| 70/70 [00:00<00:00, 202.68batch/s, mse=0.571]\n",
      "Epoch 79: 100%|██████████| 70/70 [00:00<00:00, 165.93batch/s, mse=0.556]\n",
      "Epoch 80: 100%|██████████| 70/70 [00:00<00:00, 190.41batch/s, mse=0.543]\n",
      "Epoch 81: 100%|██████████| 70/70 [00:00<00:00, 186.95batch/s, mse=0.527]\n",
      "Epoch 82: 100%|██████████| 70/70 [00:00<00:00, 193.17batch/s, mse=0.518]\n",
      "Epoch 83: 100%|██████████| 70/70 [00:00<00:00, 203.59batch/s, mse=0.51] \n",
      "Epoch 84: 100%|██████████| 70/70 [00:00<00:00, 187.01batch/s, mse=0.503]\n",
      "Epoch 85: 100%|██████████| 70/70 [00:00<00:00, 192.40batch/s, mse=0.562]\n",
      "Epoch 86: 100%|██████████| 70/70 [00:00<00:00, 193.67batch/s, mse=0.534]\n",
      "Epoch 87: 100%|██████████| 70/70 [00:00<00:00, 193.21batch/s, mse=0.508]\n",
      "Epoch 88: 100%|██████████| 70/70 [00:00<00:00, 210.05batch/s, mse=0.488]\n",
      "Epoch 89: 100%|██████████| 70/70 [00:00<00:00, 170.15batch/s, mse=0.471]\n",
      "Epoch 90: 100%|██████████| 70/70 [00:00<00:00, 213.03batch/s, mse=0.462]\n",
      "Epoch 91: 100%|██████████| 70/70 [00:00<00:00, 237.46batch/s, mse=0.457]\n",
      "Epoch 92: 100%|██████████| 70/70 [00:00<00:00, 180.63batch/s, mse=0.459]\n",
      "Epoch 93: 100%|██████████| 70/70 [00:00<00:00, 166.50batch/s, mse=0.468]\n",
      "Epoch 94: 100%|██████████| 70/70 [00:00<00:00, 220.22batch/s, mse=0.488]\n",
      "Epoch 95: 100%|██████████| 70/70 [00:00<00:00, 212.14batch/s, mse=0.539]\n",
      "Epoch 96: 100%|██████████| 70/70 [00:00<00:00, 195.49batch/s, mse=0.522]\n",
      "Epoch 97: 100%|██████████| 70/70 [00:00<00:00, 175.65batch/s, mse=0.432]\n",
      "Epoch 98: 100%|██████████| 70/70 [00:00<00:00, 193.47batch/s, mse=0.493]\n",
      "Epoch 99: 100%|██████████| 70/70 [00:00<00:00, 207.25batch/s, mse=0.487]\n",
      "Epoch 100: 100%|██████████| 70/70 [00:00<00:00, 192.67batch/s, mse=0.484]\n"
     ]
    }
   ],
   "source": [
    "import numpy as np\n",
    "import torch\n",
    "import torch.nn as nn\n",
    "import torch.optim as optim\n",
    "from sklearn.model_selection import train_test_split\n",
    "from tqdm import tqdm\n",
    "\n",
    "# Generate Data\n",
    "x = np.linspace(-10, 10, 1000).reshape(-1, 1)\n",
    "y = 2 * x**2  + 3*np.sin(2*np.pi*x/(1e-02)) \n",
    "\n",
    "# Train-test split\n",
    "X_train, X_test, y_train, y_test = train_test_split(x, y, train_size=0.7, shuffle=True)\n",
    "\n",
    "# Convert to PyTorch tensors\n",
    "X_train = torch.tensor(X_train, dtype=torch.float32)\n",
    "y_train = torch.tensor(y_train, dtype=torch.float32)\n",
    "X_test = torch.tensor(X_test, dtype=torch.float32)\n",
    "y_test = torch.tensor(y_test, dtype=torch.float32)\n",
    "\n",
    "# Define Model\n",
    "class SimpleNN(nn.Module):\n",
    "    def __init__(self):\n",
    "        super(SimpleNN, self).__init__()\n",
    "        #self.fc = nn.Linear(1, 1)  # Simple linear model (can be modified for non-linearity)\n",
    "        self.network = nn.Sequential(\n",
    "            nn.Linear(1,8),\n",
    "            nn.ReLU(),\n",
    "            nn.Linear(8,8),\n",
    "            nn.ReLU(),\n",
    "            nn.Linear(8,1)\n",
    "        )\n",
    "    def forward(self, x):\n",
    "        return self.network(x)\n",
    "\n",
    "model = SimpleNN()\n",
    "\n",
    "# Loss function and optimizer\n",
    "loss_fn = nn.MSELoss()\n",
    "optimizer = optim.Adam(model.parameters(), lr=0.01)\n",
    "\n",
    "# Training parameters\n",
    "n_epochs = 100\n",
    "batch_size = 10\n",
    "batch_start = torch.arange(0, len(X_train), batch_size)\n",
    "\n",
    "best_mse = np.inf  # initialize\n",
    "best_weights = None\n",
    "history = []\n",
    "\n",
    "# Training loop\n",
    "for epoch in range(n_epochs):\n",
    "    model.train()\n",
    "    \n",
    "    with tqdm(batch_start, unit=\"batch\", mininterval=0, disable=False) as bar:\n",
    "        bar.set_description(f\"Epoch {epoch+1}\")\n",
    "\n",
    "        for start in bar:\n",
    "            X_batch = X_train[start:start + batch_size]\n",
    "            y_batch = y_train[start:start + batch_size]\n",
    "\n",
    "            y_pred = model(X_batch)\n",
    "            loss = loss_fn(y_pred, y_batch)\n",
    "\n",
    "            optimizer.zero_grad()\n",
    "            loss.backward()\n",
    "            optimizer.step()\n",
    "\n",
    "            bar.set_postfix(mse=float(loss))\n",
    "\n",
    "    model.eval()\n",
    "    y_pred = model(X_test)\n"
   ]
  },
  {
   "cell_type": "code",
   "execution_count": 127,
   "metadata": {},
   "outputs": [
    {
     "data": {
      "text/plain": [
       "<matplotlib.legend.Legend at 0x1b831b5c550>"
      ]
     },
     "execution_count": 127,
     "metadata": {},
     "output_type": "execute_result"
    },
    {
     "data": {
      "image/png": "[encoded data removed]",
      "text/plain": [
       "<Figure size 640x480 with 1 Axes>"
      ]
     },
     "metadata": {},
     "output_type": "display_data"
    }
   ],
   "source": [
    "x_new = np.linspace(-5,5).reshape(-1,1)\n",
    "y = 2*x_new**2\n",
    "X_new = torch.Tensor(x_new)\n",
    "y_pred = model(X_new).detach().numpy()\n",
    "\n",
    "from cProfile import label\n",
    "import matplotlib.pyplot as plt\n",
    "\n",
    "plt.plot(x_new,y,label=\"train\")\n",
    "plt.plot(x_new,y_pred,'ro',label=\"predict\")\n",
    "plt.legend()"
   ]
  }
 ],
 "metadata": {
  "kernelspec": {
   "display_name": "Python 3",
   "language": "python",
   "name": "python3"
  },
  "language_info": {
   "codemirror_mode": {
    "name": "ipython",
    "version": 3
   },
   "file_extension": ".py",
   "mimetype": "text/x-python",
   "name": "python",
   "nbconvert_exporter": "python",
   "pygments_lexer": "ipython3",
   "version": "3.13.2"
  }
 },
 "nbformat": 4,
 "nbformat_minor": 2
}
